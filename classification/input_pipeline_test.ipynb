{
 "cells": [
  {
   "cell_type": "code",
   "execution_count": null,
   "metadata": {},
   "outputs": [],
   "source": [
    "import tensorflow as tf\n",
    "import tensorflow_datasets as tfds\n",
    "from flax import jax_utils\n",
    "import jax\n",
    "import ml_collections\n",
    "\n",
    "import input_pipeline\n",
    "import train\n",
    "from configs import resnet_v1 as config_lib"
   ]
  },
  {
   "cell_type": "code",
   "execution_count": null,
   "metadata": {},
   "outputs": [],
   "source": [
    "%matplotlib inline\n",
    "import matplotlib\n",
    "import matplotlib.pyplot as plt\n",
    "\n",
    "import numpy as np"
   ]
  },
  {
   "cell_type": "code",
   "execution_count": null,
   "metadata": {},
   "outputs": [],
   "source": [
    "tf.config.experimental.set_visible_devices([], \"GPU\")"
   ]
  },
  {
   "cell_type": "code",
   "execution_count": null,
   "metadata": {},
   "outputs": [],
   "source": [
    "# Load config that was used to train checkpoint.\n",
    "import importlib\n",
    "\n",
    "config_name = \"resnet_v1\"\n",
    "config = importlib.import_module(f'configs.{config_name}').get_config()"
   ]
  },
  {
   "cell_type": "code",
   "execution_count": null,
   "metadata": {},
   "outputs": [],
   "source": [
    "config"
   ]
  },
  {
   "cell_type": "code",
   "execution_count": null,
   "metadata": {},
   "outputs": [],
   "source": [
    "local_batch_size = config.batch_size // jax.process_count()\n",
    "input_dtype = train.get_input_dtype(config.half_precision)\n",
    "\n",
    "dataset_builder = tfds.builder(config.dataset, data_dir=config.dataset_dir)\n",
    "dataset_builder.download_and_prepare()\n",
    "train_iter = train.create_input_iter(\n",
    "    dataset_builder, local_batch_size, input_dtype, train=True, config=config\n",
    ")\n",
    "eval_iter = train.create_input_iter(\n",
    "    dataset_builder, local_batch_size, input_dtype, train=False, config=config\n",
    ")"
   ]
  },
  {
   "cell_type": "code",
   "execution_count": null,
   "metadata": {},
   "outputs": [],
   "source": [
    "def display(display_list):\n",
    "    plt.figure(figsize=(10, 10))\n",
    "\n",
    "    title = ['Input Image']\n",
    "\n",
    "    for i in range(len(display_list)):\n",
    "        plt.subplot(1, len(display_list), i + 1)\n",
    "        plt.imshow(tf.keras.utils.array_to_img(display_list[0][i]))\n",
    "        plt.axis('off')\n",
    "    plt.show()"
   ]
  },
  {
   "cell_type": "code",
   "execution_count": null,
   "metadata": {},
   "outputs": [],
   "source": [
    "for _ in range(5):\n",
    "    train_batch = next(train_iter)\n",
    "    image = train_batch[\"image\"]\n",
    "    label = train_batch[\"label\"]\n",
    "    display([np.array(image[0]), np.array(label)])"
   ]
  },
  {
   "cell_type": "code",
   "execution_count": null,
   "metadata": {},
   "outputs": [],
   "source": [
    "for _ in range(5):\n",
    "    eval_batch = next(eval_iter)\n",
    "    image = eval_batch[\"image\"]\n",
    "    label = eval_batch[\"label\"]\n",
    "    display([np.array(image[0]), np.array(label[0])])"
   ]
  },
  {
   "cell_type": "code",
   "execution_count": null,
   "metadata": {},
   "outputs": [],
   "source": []
  }
 ],
 "metadata": {
  "interpreter": {
   "hash": "9f8f55d0f91aa6af4ba88cbf10053f4e1e46712a147b2d46f304f7957de7e6fd"
  },
  "kernelspec": {
   "display_name": "Python 3 (ipykernel)",
   "language": "python",
   "name": "python3"
  },
  "language_info": {
   "codemirror_mode": {
    "name": "ipython",
    "version": 3
   },
   "file_extension": ".py",
   "mimetype": "text/x-python",
   "name": "python",
   "nbconvert_exporter": "python",
   "pygments_lexer": "ipython3",
   "version": "3.10.12"
  }
 },
 "nbformat": 4,
 "nbformat_minor": 4
}
