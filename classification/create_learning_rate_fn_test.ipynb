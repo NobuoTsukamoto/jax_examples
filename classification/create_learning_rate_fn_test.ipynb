{
 "cells": [
  {
   "cell_type": "code",
   "execution_count": null,
   "id": "d207a7b2-c990-4a77-b10a-66dc97cea5b3",
   "metadata": {},
   "outputs": [],
   "source": [
    "%matplotlib inline\n",
    "\n",
    "import matplotlib\n",
    "import matplotlib.pyplot as plt"
   ]
  },
  {
   "cell_type": "code",
   "execution_count": null,
   "id": "47f022ff-b750-4d44-9eea-c3ebd4dd63e6",
   "metadata": {},
   "outputs": [],
   "source": [
    "import tensorflow as tf\n",
    "import tensorflow_datasets as tfds\n",
    "\n",
    "from train import create_learning_rate_fn"
   ]
  },
  {
   "cell_type": "code",
   "execution_count": null,
   "id": "882a7f57-4a1f-430f-8948-f19584946cb4",
   "metadata": {},
   "outputs": [],
   "source": [
    "tf.config.experimental.set_visible_devices([], \"GPU\")"
   ]
  },
  {
   "cell_type": "code",
   "execution_count": null,
   "id": "9525cac0-32f9-4463-b567-191f6e7787c0",
   "metadata": {},
   "outputs": [],
   "source": [
    "import importlib\n",
    "\n",
    "config_name = \"mobilenet_v2\"\n",
    "config = importlib.import_module(f'configs.{config_name}').get_config()"
   ]
  },
  {
   "cell_type": "code",
   "execution_count": null,
   "id": "5763a4c4-e221-444a-ac1d-862ef54cdf93",
   "metadata": {},
   "outputs": [],
   "source": [
    "dataset_builder = tfds.builder(config.dataset, data_dir=config.dataset_dir)\n",
    "dataset_builder.download_and_prepare()"
   ]
  },
  {
   "cell_type": "code",
   "execution_count": null,
   "id": "fb095915-fd89-4941-9d8e-9527411daf90",
   "metadata": {},
   "outputs": [],
   "source": [
    "steps_per_epoch = 1281167 // config.batch_size\n",
    "#(\n",
    "#        dataset_builder.info.splits[\"train\"].num_examples // config.batch_size\n",
    "#    )\n",
    "#config.batch_size = 512\n",
    "base_learning_rate = config.learning_rate"
   ]
  },
  {
   "cell_type": "code",
   "execution_count": null,
   "id": "2da9b00b-0c91-4443-8367-f6b2a0f8a226",
   "metadata": {},
   "outputs": [],
   "source": [
    "print(\"optimizer_schedule         : {}\".format(config.optimizer_schedule))\n",
    "print(\"initial_learning_rate      : {}\".format(config.initial_learning_rate))\n",
    "print(\"learning_rate              : {}\".format(config.learning_rate))\n",
    "print(\"exponential_decay_rate     : {}\".format(config.exponential_decay_rate))\n",
    "print(\"batch_size                 : {}\".format(config.batch_size))\n",
    "print(\"warmup_epochs              : {}\".format(config.warmup_epochs))\n",
    "print(\"num_epochs                 : {}\".format(config.num_epochs))\n",
    "print(\"gradient_accumulation_steps: {}\".format(config.gradient_accumulation_steps))\n",
    "print(\"steps_per_epoch            : {}\".format(steps_per_epoch))"
   ]
  },
  {
   "cell_type": "code",
   "execution_count": null,
   "id": "d5558e7d-ef49-4d40-8faf-504533929220",
   "metadata": {},
   "outputs": [],
   "source": [
    "learning_rate_fn = create_learning_rate_fn(config, steps_per_epoch)"
   ]
  },
  {
   "cell_type": "code",
   "execution_count": null,
   "id": "9780e174-2c9c-4e0c-bf69-78ccaacf897a",
   "metadata": {},
   "outputs": [],
   "source": [
    "learning_rate = []\n",
    "for i in range(int(config.num_epochs * steps_per_epoch)):\n",
    "    learning_rate.append(learning_rate_fn(i))"
   ]
  },
  {
   "cell_type": "code",
   "execution_count": null,
   "id": "8d34af1f-f4a9-4c82-a3e2-440c32b7e36c",
   "metadata": {},
   "outputs": [],
   "source": [
    "plt.plot(learning_rate, label='1st plot')\n",
    "plt.savefig(\"learning_rate_fn.png\")\n",
    "plt.show()"
   ]
  },
  {
   "cell_type": "code",
   "execution_count": null,
   "id": "58497b1d-4c18-4121-811e-16d04f8a700e",
   "metadata": {},
   "outputs": [],
   "source": []
  }
 ],
 "metadata": {
  "kernelspec": {
   "display_name": "Python 3 (ipykernel)",
   "language": "python",
   "name": "python3"
  },
  "language_info": {
   "codemirror_mode": {
    "name": "ipython",
    "version": 3
   },
   "file_extension": ".py",
   "mimetype": "text/x-python",
   "name": "python",
   "nbconvert_exporter": "python",
   "pygments_lexer": "ipython3",
   "version": "3.10.12"
  }
 },
 "nbformat": 4,
 "nbformat_minor": 5
}
